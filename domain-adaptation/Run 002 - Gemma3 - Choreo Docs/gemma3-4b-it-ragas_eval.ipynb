{
 "cells": [
  {
   "cell_type": "code",
   "execution_count": null,
   "metadata": {
    "execution": {
     "iopub.execute_input": "2025-07-02T04:07:55.624515Z",
     "iopub.status.busy": "2025-07-02T04:07:55.624056Z",
     "iopub.status.idle": "2025-07-02T04:08:19.201126Z",
     "shell.execute_reply": "2025-07-02T04:08:19.199838Z",
     "shell.execute_reply.started": "2025-07-02T04:07:55.624486Z"
    },
    "trusted": true
   },
   "outputs": [],
   "source": [
    "! pip install pandas ragas datasets rouge_score sacrebleu -q"
   ]
  },
  {
   "cell_type": "code",
   "execution_count": null,
   "metadata": {
    "_cell_guid": "b1076dfc-b9ad-4769-8c92-a6c4dae69d19",
    "_uuid": "8f2839f25d086af736a60e9eeb907d3b93b6e0e5",
    "execution": {
     "iopub.execute_input": "2025-07-02T04:08:19.203950Z",
     "iopub.status.busy": "2025-07-02T04:08:19.203509Z",
     "iopub.status.idle": "2025-07-02T04:10:52.680856Z",
     "shell.execute_reply": "2025-07-02T04:10:52.679707Z",
     "shell.execute_reply.started": "2025-07-02T04:08:19.203910Z"
    },
    "trusted": true
   },
   "outputs": [
    {
     "data": {
      "application/vnd.jupyter.widget-view+json": {
       "model_id": "f2d15facfd844fbc967bd520bc75305e",
       "version_major": 2,
       "version_minor": 0
      },
      "text/plain": [
       "output.jsonl: 0.00B [00:00, ?B/s]"
      ]
     },
     "metadata": {},
     "output_type": "display_data"
    },
    {
     "data": {
      "application/vnd.jupyter.widget-view+json": {
       "model_id": "54439b3a921648cfb11adb20cb318af9",
       "version_major": 2,
       "version_minor": 0
      },
      "text/plain": [
       "Generating train split:   0%|          | 0/166 [00:00<?, ? examples/s]"
      ]
     },
     "metadata": {},
     "output_type": "display_data"
    },
    {
     "data": {
      "application/vnd.jupyter.widget-view+json": {
       "model_id": "73a22b0fb7f54df78401aabe3fb9331d",
       "version_major": 2,
       "version_minor": 0
      },
      "text/plain": [
       "Evaluating:   0%|          | 0/830 [00:00<?, ?it/s]"
      ]
     },
     "metadata": {},
     "output_type": "display_data"
    }
   ],
   "source": [
    "from ragas.metrics import FactualCorrectness, AnswerAccuracy, SemanticSimilarity, RougeScore, BleuScore\n",
    "from ragas import evaluate\n",
    "import pandas as pd\n",
    "from datasets import load_dataset, Dataset\n",
    "import os\n",
    "\n",
    "os.environ[\"OPENAI_API_KEY\"] = \"\" # OpenAI API key\n",
    "os.environ[\"HF_TOKEN\"] = \"\" # Hugging Face token\n",
    "\n",
    "dataset_hf = load_dataset(\"lukepramo221/gemma-3-4b-finetuned_choreo-qna_full_v0.6\", split=\"train\", token=os.environ[\"HF_TOKEN\"])\n",
    "\n",
    "df_hf = dataset_hf.to_pandas()\n",
    "\n",
    "renamed_df_hf = df_hf.rename(columns={\n",
    "    \"finetuned_answer\": \"response\",\n",
    "    \"answer\": \"reference\",\n",
    "    \"question\": \"user_input\"\n",
    "})\n",
    "\n",
    "dataset_for_evaluation = Dataset.from_pandas(renamed_df_hf)\n",
    "\n",
    "res_hf = evaluate(dataset_for_evaluation, metrics=[FactualCorrectness(), AnswerAccuracy(), SemanticSimilarity(), RougeScore(), BleuScore()])\n",
    "\n",
    "res_df_hf = res_hf.to_pandas()\n",
    "\n",
    "res_df_hf.to_csv('ragas_gemma3-4b_hf.csv', index=False)"
   ]
  },
  {
   "cell_type": "code",
   "execution_count": 3,
   "metadata": {
    "execution": {
     "iopub.execute_input": "2025-07-02T04:10:52.682373Z",
     "iopub.status.busy": "2025-07-02T04:10:52.682003Z",
     "iopub.status.idle": "2025-07-02T04:10:52.721375Z",
     "shell.execute_reply": "2025-07-02T04:10:52.720476Z",
     "shell.execute_reply.started": "2025-07-02T04:10:52.682337Z"
    },
    "trusted": true
   },
   "outputs": [
    {
     "data": {
      "text/html": [
       "<div>\n",
       "<style scoped>\n",
       "    .dataframe tbody tr th:only-of-type {\n",
       "        vertical-align: middle;\n",
       "    }\n",
       "\n",
       "    .dataframe tbody tr th {\n",
       "        vertical-align: top;\n",
       "    }\n",
       "\n",
       "    .dataframe thead th {\n",
       "        text-align: right;\n",
       "    }\n",
       "</style>\n",
       "<table border=\"1\" class=\"dataframe\">\n",
       "  <thead>\n",
       "    <tr style=\"text-align: right;\">\n",
       "      <th></th>\n",
       "      <th>factual_correctness(mode=f1)</th>\n",
       "      <th>nv_accuracy</th>\n",
       "      <th>semantic_similarity</th>\n",
       "      <th>rouge_score(mode=fmeasure)</th>\n",
       "      <th>bleu_score</th>\n",
       "    </tr>\n",
       "  </thead>\n",
       "  <tbody>\n",
       "    <tr>\n",
       "      <th>count</th>\n",
       "      <td>166.000000</td>\n",
       "      <td>166.000000</td>\n",
       "      <td>166.000000</td>\n",
       "      <td>166.000000</td>\n",
       "      <td>1.660000e+02</td>\n",
       "    </tr>\n",
       "    <tr>\n",
       "      <th>mean</th>\n",
       "      <td>0.356145</td>\n",
       "      <td>0.445783</td>\n",
       "      <td>0.916722</td>\n",
       "      <td>0.283497</td>\n",
       "      <td>1.414553e-01</td>\n",
       "    </tr>\n",
       "    <tr>\n",
       "      <th>std</th>\n",
       "      <td>0.281407</td>\n",
       "      <td>0.265570</td>\n",
       "      <td>0.035424</td>\n",
       "      <td>0.115955</td>\n",
       "      <td>1.283055e-01</td>\n",
       "    </tr>\n",
       "    <tr>\n",
       "      <th>min</th>\n",
       "      <td>0.000000</td>\n",
       "      <td>0.000000</td>\n",
       "      <td>0.812574</td>\n",
       "      <td>0.095238</td>\n",
       "      <td>1.239647e-07</td>\n",
       "    </tr>\n",
       "    <tr>\n",
       "      <th>25%</th>\n",
       "      <td>0.027500</td>\n",
       "      <td>0.250000</td>\n",
       "      <td>0.895096</td>\n",
       "      <td>0.207043</td>\n",
       "      <td>5.540571e-02</td>\n",
       "    </tr>\n",
       "    <tr>\n",
       "      <th>50%</th>\n",
       "      <td>0.330000</td>\n",
       "      <td>0.500000</td>\n",
       "      <td>0.916580</td>\n",
       "      <td>0.254932</td>\n",
       "      <td>9.465821e-02</td>\n",
       "    </tr>\n",
       "    <tr>\n",
       "      <th>75%</th>\n",
       "      <td>0.570000</td>\n",
       "      <td>0.500000</td>\n",
       "      <td>0.941785</td>\n",
       "      <td>0.324831</td>\n",
       "      <td>1.881305e-01</td>\n",
       "    </tr>\n",
       "    <tr>\n",
       "      <th>max</th>\n",
       "      <td>1.000000</td>\n",
       "      <td>1.000000</td>\n",
       "      <td>0.994725</td>\n",
       "      <td>0.838710</td>\n",
       "      <td>6.824250e-01</td>\n",
       "    </tr>\n",
       "  </tbody>\n",
       "</table>\n",
       "</div>"
      ],
      "text/plain": [
       "       factual_correctness(mode=f1)  nv_accuracy  semantic_similarity  \\\n",
       "count                    166.000000   166.000000           166.000000   \n",
       "mean                       0.356145     0.445783             0.916722   \n",
       "std                        0.281407     0.265570             0.035424   \n",
       "min                        0.000000     0.000000             0.812574   \n",
       "25%                        0.027500     0.250000             0.895096   \n",
       "50%                        0.330000     0.500000             0.916580   \n",
       "75%                        0.570000     0.500000             0.941785   \n",
       "max                        1.000000     1.000000             0.994725   \n",
       "\n",
       "       rouge_score(mode=fmeasure)    bleu_score  \n",
       "count                  166.000000  1.660000e+02  \n",
       "mean                     0.283497  1.414553e-01  \n",
       "std                      0.115955  1.283055e-01  \n",
       "min                      0.095238  1.239647e-07  \n",
       "25%                      0.207043  5.540571e-02  \n",
       "50%                      0.254932  9.465821e-02  \n",
       "75%                      0.324831  1.881305e-01  \n",
       "max                      0.838710  6.824250e-01  "
      ]
     },
     "execution_count": 3,
     "metadata": {},
     "output_type": "execute_result"
    }
   ],
   "source": [
    "res_df_hf.describe()"
   ]
  },
  {
   "cell_type": "code",
   "execution_count": null,
   "metadata": {
    "trusted": true
   },
   "outputs": [],
   "source": []
  }
 ],
 "metadata": {
  "kaggle": {
   "accelerator": "none",
   "dataSources": [],
   "dockerImageVersionId": 31040,
   "isGpuEnabled": false,
   "isInternetEnabled": true,
   "language": "python",
   "sourceType": "notebook"
  },
  "kernelspec": {
   "display_name": "Python 3",
   "language": "python",
   "name": "python3"
  },
  "language_info": {
   "codemirror_mode": {
    "name": "ipython",
    "version": 3
   },
   "file_extension": ".py",
   "mimetype": "text/x-python",
   "name": "python",
   "nbconvert_exporter": "python",
   "pygments_lexer": "ipython3",
   "version": "3.11.11"
  }
 },
 "nbformat": 4,
 "nbformat_minor": 4
}
